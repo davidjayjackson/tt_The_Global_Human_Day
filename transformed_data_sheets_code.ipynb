{
 "cells": [
  {
   "cell_type": "code",
   "execution_count": null,
   "id": "ab17d57e",
   "metadata": {},
   "outputs": [],
   "source": [
    "# Import necessary libraries\n",
    "import pandas as pd\n",
    "import matplotlib.pyplot as plt\n",
    "import seaborn as sns\n",
    "from sklearn.preprocessing import StandardScaler, LabelEncoder"
   ]
  },
  {
   "cell_type": "code",
   "execution_count": null,
   "id": "d00effff",
   "metadata": {},
   "outputs": [],
   "source": [
    "# Initialize Scaler and Encoder\n",
    "scaler = StandardScaler()\n",
    "label_encoder = LabelEncoder()"
   ]
  },
  {
   "cell_type": "code",
   "execution_count": null,
   "id": "1452c9f0",
   "metadata": {},
   "outputs": [],
   "source": [
    "# Read Excel file and load all sheets into a dictionary of dataframes\n",
    "input_excel_path = './tt_global_human_day.xlsx'\n",
    "data_frames = pd.read_excel(input_excel_path, sheet_name=None)"
   ]
  },
  {
   "cell_type": "code",
   "execution_count": null,
   "id": "23ed39c2",
   "metadata": {},
   "outputs": [],
   "source": [
    "# Output path for transformed Excel workbook\n",
    "output_excel_path = '/mnt/data/transformed_data_sheets.xlsx'"
   ]
  },
  {
   "cell_type": "code",
   "execution_count": null,
   "id": "2d29ec84",
   "metadata": {},
   "outputs": [],
   "source": [
    "# Perform basic transformations and EDA for each sheet\n",
    "\n",
    "## Transformation and EDA code for 'global_human_day', 'country_regions', and 'global_economic_activity' have been performed."
   ]
  },
  {
   "cell_type": "code",
   "execution_count": null,
   "id": "b2e3267d",
   "metadata": {},
   "outputs": [],
   "source": [
    "# Create SQLite database and connection\n",
    "import sqlite3\n",
    "db_path = './transformed_data_sheets.db'\n",
    "conn = sqlite3.connect(db_path)"
   ]
  },
  {
   "cell_type": "code",
   "execution_count": null,
   "id": "364935a7",
   "metadata": {},
   "outputs": [],
   "source": [
    "# Load the transformed data sheets into the SQLite database\n",
    "for sheet, df in data_frames.items():\n",
    "    df.to_sql(f\"{sheet}_transformed\", conn, if_exists='replace', index=False)"
   ]
  },
  {
   "cell_type": "code",
   "execution_count": null,
   "id": "0864bbca",
   "metadata": {},
   "outputs": [],
   "source": [
    "# Close the connection\n",
    "conn.close()"
   ]
  }
 ],
 "metadata": {
  "language_info": {
   "name": "python"
  }
 },
 "nbformat": 4,
 "nbformat_minor": 5
}
